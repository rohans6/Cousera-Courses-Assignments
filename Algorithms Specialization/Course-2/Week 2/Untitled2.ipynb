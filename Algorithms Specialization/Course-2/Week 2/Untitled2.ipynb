{
 "cells": [
  {
   "cell_type": "code",
   "execution_count": 1,
   "metadata": {},
   "outputs": [],
   "source": [
    "data={}\n",
    "with open(\"C://logs//dijkstas.txt\")  as f:\n",
    "    cv=f.readlines()\n",
    "    "
   ]
  },
  {
   "cell_type": "code",
   "execution_count": 2,
   "metadata": {},
   "outputs": [],
   "source": [
    "from ast import literal_eval"
   ]
  },
  {
   "cell_type": "code",
   "execution_count": 3,
   "metadata": {},
   "outputs": [],
   "source": [
    "def read_data(path,nodes):\n",
    "    with open(path) as f:\n",
    "        data=f.readlines()\n",
    "    G=[None]*(nodes+1)\n",
    "    for line in data:\n",
    "        line=line.split()\n",
    "        G[int(line[0])]=[literal_eval(a) for a in line[1:]]\n",
    "    return G\n",
    "    \n",
    "        "
   ]
  },
  {
   "cell_type": "code",
   "execution_count": 4,
   "metadata": {},
   "outputs": [],
   "source": [
    "G=read_data(\"C://logs//Dij.txt\",200)"
   ]
  },
  {
   "cell_type": "code",
   "execution_count": 13,
   "metadata": {},
   "outputs": [],
   "source": [
    "def Dijkstra(G,nodes):\n",
    "    visited=[1]\n",
    "    min_dis=[10000]*(nodes+1)\n",
    "    min_dis[1]=0\n",
    "    while(len(visited)!=nodes):\n",
    "        min_dist=100000\n",
    "        for node in visited:\n",
    "            for i in G[node]:\n",
    "                if not i[0] in visited:\n",
    "                    dist=min_dis[node]+i[1]\n",
    "                    if(min_dist>=dist):\n",
    "                        min_dist=dist\n",
    "                        cv=i\n",
    "        \n",
    "        min_dis[cv[0]]=min_dist\n",
    "        visited.append(cv[0])\n",
    "    return min_dis,visited"
   ]
  },
  {
   "cell_type": "code",
   "execution_count": 14,
   "metadata": {},
   "outputs": [],
   "source": [
    "min_dis,visited=Dijkstra(G,200)"
   ]
  },
  {
   "cell_type": "code",
   "execution_count": 17,
   "metadata": {},
   "outputs": [],
   "source": [
    "bv=[]\n",
    "bv.append([min_dis[7],min_dis[37],min_dis[59],min_dis[82],min_dis[99],min_dis[115],min_dis[133],min_dis[165],min_dis[188],min_dis[197]])"
   ]
  },
  {
   "cell_type": "code",
   "execution_count": 18,
   "metadata": {},
   "outputs": [
    {
     "name": "stdout",
     "output_type": "stream",
     "text": [
      "[[2599, 2610, 2947, 2052, 2367, 2399, 2029, 2442, 2505, 3068]]\n"
     ]
    }
   ],
   "source": [
    "print(bv)"
   ]
  },
  {
   "cell_type": "code",
   "execution_count": null,
   "metadata": {},
   "outputs": [],
   "source": []
  }
 ],
 "metadata": {
  "kernelspec": {
   "display_name": "Python 3",
   "language": "python",
   "name": "python3"
  },
  "language_info": {
   "codemirror_mode": {
    "name": "ipython",
    "version": 3
   },
   "file_extension": ".py",
   "mimetype": "text/x-python",
   "name": "python",
   "nbconvert_exporter": "python",
   "pygments_lexer": "ipython3",
   "version": "3.8.5"
  }
 },
 "nbformat": 4,
 "nbformat_minor": 4
}
