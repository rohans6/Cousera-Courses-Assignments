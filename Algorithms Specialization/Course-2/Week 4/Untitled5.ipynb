{
 "cells": [
  {
   "cell_type": "code",
   "execution_count": 1,
   "metadata": {},
   "outputs": [],
   "source": [
    "with open('C:\\\\assignment_4.txt') as f:\n",
    "    data=f.readlines()"
   ]
  },
  {
   "cell_type": "code",
   "execution_count": null,
   "metadata": {},
   "outputs": [],
   "source": [
    "from typing import List, Tuple\n",
    "from collections import defaultdict\n",
    "from operator import lt, gt\n",
    "\n",
    "\n",
    "def load_data() -> List[int]:\n",
    "    numbers = []\n",
    "    seen = {}\n",
    "\n",
    "    with open('C:\\\\assignment_4.txt', 'r') as f:\n",
    "        for line in f:\n",
    "            num = int(line.strip())\n",
    "            if num in seen:\n",
    "                continue\n",
    "            seen[num] = 1\n",
    "            numbers.append(num)\n",
    "\n",
    "    return numbers\n",
    "\n",
    "numbers = load_data()\n",
    "hashed = {n: 1 for n in numbers}\n",
    "count = 0\n",
    "\n",
    "for t in range(-10000,10001):\n",
    "    for num in numbers:\n",
    "        requires = t - num\n",
    "        if hashed.get(requires):\n",
    "            count = count + 1\n",
    "            print('Found:', count)\n",
    "            break\n",
    "\n",
    "print('Final count:', count)"
   ]
  },
  {
   "cell_type": "code",
   "execution_count": null,
   "metadata": {},
   "outputs": [],
   "source": []
  }
 ],
 "metadata": {
  "kernelspec": {
   "display_name": "Python 3",
   "language": "python",
   "name": "python3"
  },
  "language_info": {
   "codemirror_mode": {
    "name": "ipython",
    "version": 3
   },
   "file_extension": ".py",
   "mimetype": "text/x-python",
   "name": "python",
   "nbconvert_exporter": "python",
   "pygments_lexer": "ipython3",
   "version": "3.8.5"
  }
 },
 "nbformat": 4,
 "nbformat_minor": 4
}
