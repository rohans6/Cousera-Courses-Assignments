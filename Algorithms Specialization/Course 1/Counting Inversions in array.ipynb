{
 "cells": [
  {
   "cell_type": "code",
   "execution_count": 1,
   "metadata": {},
   "outputs": [],
   "source": [
    "def merge_sort(a):\n",
    "    n=len(a)\n",
    "    if(n<=1):\n",
    "        return a,0\n",
    "    \n",
    "    mid=n//2\n",
    "    b,x=merge_sort(a[:mid])\n",
    "    c,y=merge_sort(a[mid:])\n",
    "    k,z=merge(b,c)\n",
    "    return k,x+y+z\n",
    "    \n",
    "\n"
   ]
  },
  {
   "cell_type": "code",
   "execution_count": 2,
   "metadata": {},
   "outputs": [],
   "source": [
    "a=[1,3,5,2,4,6]"
   ]
  },
  {
   "cell_type": "code",
   "execution_count": 7,
   "metadata": {},
   "outputs": [
    {
     "data": {
      "text/plain": [
       "([1, 2, 3, 4, 5, 6], 3)"
      ]
     },
     "execution_count": 7,
     "metadata": {},
     "output_type": "execute_result"
    }
   ],
   "source": [
    "merge_sort([1,3,5,2,4,6])"
   ]
  },
  {
   "cell_type": "code",
   "execution_count": 4,
   "metadata": {},
   "outputs": [],
   "source": [
    "def merge(b,c):\n",
    "    i=0\n",
    "    j=0\n",
    "    k=0\n",
    "    n1=len(b)\n",
    "    n2=len(c)\n",
    "    arr=[None]*(n1+n2)\n",
    "    num_split=0\n",
    "    while(i<n1 and  j<n2):\n",
    "        if(b[i]<=c[j]):\n",
    "            arr[k]=b[i]\n",
    "            k=k+1\n",
    "            i=i+1\n",
    "        else:\n",
    "            arr[k]=c[j]\n",
    "            k=k+1\n",
    "            j=j+1\n",
    "            num_split+=n1-i\n",
    "    while(i<n1):\n",
    "        arr[k]=b[i]\n",
    "        k=k+1\n",
    "        i=i+1\n",
    "    while(j<n2):\n",
    "        arr[k]=c[j]\n",
    "        j=j+1\n",
    "        k=k+1\n",
    "    return arr,num_split    "
   ]
  },
  {
   "cell_type": "code",
   "execution_count": 5,
   "metadata": {},
   "outputs": [
    {
     "data": {
      "text/plain": [
       "([1, 2, 3, 4, 5, 6], 3)"
      ]
     },
     "execution_count": 5,
     "metadata": {},
     "output_type": "execute_result"
    }
   ],
   "source": [
    "a=[1,3,5,2,4,6]\n",
    "merge([1,3,5],[2,4,6])"
   ]
  },
  {
   "cell_type": "code",
   "execution_count": 6,
   "metadata": {},
   "outputs": [
    {
     "data": {
      "text/plain": [
       "([1, 2, 3, 4, 5, 6], 3)"
      ]
     },
     "execution_count": 6,
     "metadata": {},
     "output_type": "execute_result"
    }
   ],
   "source": [
    "merge_sort([1,3,5,2,4,6])"
   ]
  },
  {
   "cell_type": "code",
   "execution_count": 79,
   "metadata": {},
   "outputs": [
    {
     "data": {
      "text/plain": [
       "([1, 2, 3], 1)"
      ]
     },
     "execution_count": 79,
     "metadata": {},
     "output_type": "execute_result"
    }
   ],
   "source": [
    "merge_sort([2,1,3]"
   ]
  },
  {
   "cell_type": "code",
   "execution_count": 80,
   "metadata": {},
   "outputs": [
    {
     "data": {
      "text/plain": [
       "([1, 2, 3, 4, 5, 6], 3)"
      ]
     },
     "execution_count": 80,
     "metadata": {},
     "output_type": "execute_result"
    }
   ],
   "source": [
    "merge_countsplit([1,3,5],[2,4,6])"
   ]
  },
  {
   "cell_type": "code",
   "execution_count": 81,
   "metadata": {},
   "outputs": [],
   "source": [
    "def merge_countsplit(b,c):\n",
    "    \"\"\"\n",
    "    Given two sorted arrays b and c, output a merged sorted array and the number of inversions.\n",
    "    \n",
    "    Output:\n",
    "    d, num_split: Merged array d and number of inversions.\n",
    "    \"\"\"\n",
    "    i=0\n",
    "    j=0\n",
    "    k=0\n",
    "    \n",
    "    n1 = len(b)\n",
    "    n2 = len(c)\n",
    "    d = [None]*(n1+n2)\n",
    "    num_split = 0\n",
    "    \n",
    "    # traverse over b and c\n",
    "    while i<n1 and j<n2:\n",
    "        if(b[i] <= c[j]):\n",
    "            d[k] = b[i]\n",
    "            i+=1\n",
    "            k+=1\n",
    "        else:\n",
    "            d[k] = c[j]\n",
    "            num_split += n1 - i\n",
    "            j+=1\n",
    "            k+=1\n",
    "    \n",
    "    while i<n1:\n",
    "        d[k] = b[i]\n",
    "        i+=1\n",
    "        k+=1\n",
    "        \n",
    "    while j<n2:\n",
    "        d[k] = c[j]\n",
    "        j+=1\n",
    "        k+=1\n",
    "    return d, num_split\n",
    "\n",
    "def sort_and_count(a):\n",
    "    \"\"\"\n",
    "    Given array a, output a sorted array and the total number of inversions.\n",
    "    \n",
    "    Output:\n",
    "    d, num_inv: Sorted array d and number of inversions.\n",
    "    \"\"\"\n",
    "    n = len(a)\n",
    "    \n",
    "    if n <=1:\n",
    "        return a,0\n",
    "    mid = n//2\n",
    "    \n",
    "    b,x = sort_and_count(a[:mid])\n",
    "    c,y = sort_and_count(a[mid:])\n",
    "    d,z = merge_countsplit(b,c)\n",
    "    \n",
    "    num_inv = x+y+z\n",
    "    return d, num_inv\n",
    "    \n",
    "    \n",
    "    num_inv = x+y+z\n",
    "    return d, num_inv"
   ]
  },
  {
   "cell_type": "code",
   "execution_count": 26,
   "metadata": {},
   "outputs": [
    {
     "data": {
      "text/plain": [
       "([1, 2, 3, 4, 5, 6], 3)"
      ]
     },
     "execution_count": 26,
     "metadata": {},
     "output_type": "execute_result"
    }
   ],
   "source": [
    "sort_and_count([1,3,5,2,4,6])"
   ]
  },
  {
   "cell_type": "code",
   "execution_count": null,
   "metadata": {},
   "outputs": [],
   "source": []
  }
 ],
 "metadata": {
  "kernelspec": {
   "display_name": "Python 3",
   "language": "python",
   "name": "python3"
  },
  "language_info": {
   "codemirror_mode": {
    "name": "ipython",
    "version": 3
   },
   "file_extension": ".py",
   "mimetype": "text/x-python",
   "name": "python",
   "nbconvert_exporter": "python",
   "pygments_lexer": "ipython3",
   "version": "3.8.5"
  }
 },
 "nbformat": 4,
 "nbformat_minor": 4
}
