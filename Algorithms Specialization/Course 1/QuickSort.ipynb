{
 "cells": [
  {
   "cell_type": "code",
   "execution_count": 10,
   "metadata": {},
   "outputs": [],
   "source": [
    "\n",
    "def partition(arr):\n",
    "    l=0\n",
    "    pivot=arr[len(arr)-1]\n",
    "    temp=arr[0]\n",
    "    arr[0]=pivot\n",
    "    arr[len(arr)-1]=temp\n",
    "    i=l+1\n",
    "    r=len(arr)\n",
    "    for j in range(l+1,r):\n",
    "        if(arr[j]<=pivot):\n",
    "            temp=arr[i]\n",
    "            arr[i]=arr[j]\n",
    "            arr[j]=temp\n",
    "            i=i+1\n",
    "    temp=arr[i-1]\n",
    "    arr[i-1]=arr[l]\n",
    "    arr[l]=temp\n",
    "    return arr,i-1\n",
    "            \n",
    "            \n",
    "            "
   ]
  },
  {
   "cell_type": "code",
   "execution_count": 11,
   "metadata": {},
   "outputs": [],
   "source": [
    "def quick_sort(arr):\n",
    "    n=len(arr)\n",
    "    if(n>1):\n",
    "        arr,k=partition(arr)\n",
    "        arr[:k],left=quick_sort(arr[:k])\n",
    "        arr[k+1:],right=quick_sort(arr[k+1:])\n",
    "        return  arr,left+right+n-1\n",
    "    else:\n",
    "        return arr,0\n",
    "    \n",
    "    "
   ]
  },
  {
   "cell_type": "code",
   "execution_count": 12,
   "metadata": {},
   "outputs": [
    {
     "data": {
      "text/plain": [
       "([3, 5, 10, 12, 24], 7)"
      ]
     },
     "execution_count": 12,
     "metadata": {},
     "output_type": "execute_result"
    }
   ],
   "source": [
    "arr=[10,5,3,24,12]\n",
    "quick_sort(arr)"
   ]
  },
  {
   "cell_type": "code",
   "execution_count": 4,
   "metadata": {},
   "outputs": [
    {
     "name": "stdout",
     "output_type": "stream",
     "text": [
      "9\n",
      "8\n",
      "7\n",
      "6\n",
      "5\n",
      "4\n",
      "3\n",
      "2\n",
      "1\n"
     ]
    }
   ],
   "source": [
    "for i in reversed(range(1,10)):\n",
    "    print(i)"
   ]
  },
  {
   "cell_type": "code",
   "execution_count": 42,
   "metadata": {},
   "outputs": [],
   "source": [
    "def Swap(A,first,second):\n",
    "    second_value = A[second]\n",
    "    first_value = A[first]\n",
    "    A[first] = second_value\n",
    "    A[second] = first_value\n",
    "    return A"
   ]
  },
  {
   "cell_type": "code",
   "execution_count": 43,
   "metadata": {},
   "outputs": [],
   "source": [
    "def Partition(A):\n",
    "    pivot = A[0]\n",
    "    r = len(A)\n",
    "    i = 1\n",
    "    for j in range(1,r):\n",
    "        if A[j]<pivot:\n",
    "            A = Swap(A,i,j)\n",
    "            i +=1\n",
    "    A = Swap(A,0,i-1)\n",
    "    return A,i-1\n",
    "    \n",
    "def QuickSort(A):\n",
    "    n = len(A)\n",
    "    \n",
    "    if n>1:\n",
    "        A,pivot_position = Partition(A)\n",
    "        A[:pivot_position],left = QuickSort(A[:pivot_position])\n",
    "        A[pivot_position+1:],right = QuickSort(A[pivot_position+1:])\n",
    "        \n",
    "        return A,left+right+n-1\n",
    "    else:\n",
    "        return A,0"
   ]
  },
  {
   "cell_type": "code",
   "execution_count": 44,
   "metadata": {},
   "outputs": [
    {
     "data": {
      "text/plain": [
       "([3, 5, 10, 12, 24], 10)"
      ]
     },
     "execution_count": 44,
     "metadata": {},
     "output_type": "execute_result"
    }
   ],
   "source": [
    "QuickSort(arr)"
   ]
  },
  {
   "cell_type": "code",
   "execution_count": null,
   "metadata": {},
   "outputs": [],
   "source": []
  }
 ],
 "metadata": {
  "kernelspec": {
   "display_name": "Python 3",
   "language": "python",
   "name": "python3"
  },
  "language_info": {
   "codemirror_mode": {
    "name": "ipython",
    "version": 3
   },
   "file_extension": ".py",
   "mimetype": "text/x-python",
   "name": "python",
   "nbconvert_exporter": "python",
   "pygments_lexer": "ipython3",
   "version": "3.8.5"
  }
 },
 "nbformat": 4,
 "nbformat_minor": 4
}
