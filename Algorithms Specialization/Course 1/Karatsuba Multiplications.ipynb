{
 "cells": [
  {
   "cell_type": "code",
   "execution_count": 1,
   "metadata": {},
   "outputs": [],
   "source": [
    "import pandas as pd\n",
    "import numpy as np"
   ]
  },
  {
   "cell_type": "code",
   "execution_count": 1,
   "metadata": {},
   "outputs": [],
   "source": [
    "a=\"123\"\n",
    "b=\"56789\""
   ]
  },
  {
   "cell_type": "code",
   "execution_count": 4,
   "metadata": {},
   "outputs": [
    {
     "data": {
      "text/plain": [
       "'12300'"
      ]
     },
     "execution_count": 4,
     "metadata": {},
     "output_type": "execute_result"
    }
   ],
   "source": [
    "a+2*\"0\""
   ]
  },
  {
   "cell_type": "code",
   "execution_count": 5,
   "metadata": {},
   "outputs": [
    {
     "data": {
      "text/plain": [
       "6985047"
      ]
     },
     "execution_count": 5,
     "metadata": {},
     "output_type": "execute_result"
    }
   ],
   "source": [
    "123*56789"
   ]
  },
  {
   "cell_type": "code",
   "execution_count": 6,
   "metadata": {},
   "outputs": [
    {
     "data": {
      "text/plain": [
       "698504700"
      ]
     },
     "execution_count": 6,
     "metadata": {},
     "output_type": "execute_result"
    }
   ],
   "source": [
    "12300*56789"
   ]
  },
  {
   "cell_type": "code",
   "execution_count": 84,
   "metadata": {},
   "outputs": [],
   "source": [
    "def pad_zeros(a,n,at_top):\n",
    "    if(at_top==True):\n",
    "        r=\"\"\n",
    "        r+='0'*n\n",
    "        r+=a\n",
    "        return r\n",
    "    else:\n",
    "        r=\"\"\n",
    "        r+=a\n",
    "        r+='0'*n\n",
    "        return r\n",
    "    "
   ]
  },
  {
   "cell_type": "code",
   "execution_count": 87,
   "metadata": {},
   "outputs": [
    {
     "data": {
      "text/plain": [
       "'12300000'"
      ]
     },
     "execution_count": 87,
     "metadata": {},
     "output_type": "execute_result"
    }
   ],
   "source": [
    "pad_zeros(\"123\",5,at_top=False)"
   ]
  },
  {
   "cell_type": "code",
   "execution_count": 93,
   "metadata": {},
   "outputs": [],
   "source": [
    "def multiply(x,y):\n",
    "    e=str(x)\n",
    "    f=str(y)\n",
    "    if(len(e)>len(f)):\n",
    "        f=pad_zeros(f,len(e)-len(f),at_top=True)\n",
    "    elif(len(e)<len(f)):\n",
    "        e=pad_zeros(e,len(f)-len(e),at_top=True)\n",
    "    n=len(e)\n",
    "    if(n==1):\n",
    "        return x*y\n",
    "    a_st,b_st,c_st,d_st=(e[:n//2]),(e[n//2:]),(f[:n//2]),(f[n//2:])\n",
    "    a,b,c,d=int(a_st),int(b_st),int(c_st),int(d_st)\n",
    "    ac=multiply(a,c)\n",
    "    bd=multiply(b,d)\n",
    "    ad_bc=multiply(a+b,c+d)-ac-bd\n",
    "    pr=pad_zeros(str(ac),2 * (n - n // 2),at_top=False)\n",
    "    rp=pad_zeros(str(ad_bc),n-n//2,at_top=False)\n",
    "    return int(pr)+int(rp)+bd\n",
    "    "
   ]
  },
  {
   "cell_type": "code",
   "execution_count": 102,
   "metadata": {},
   "outputs": [
    {
     "data": {
      "text/plain": [
       "8539734222673567065463550869546574495034888535765114961879601127067743044893204848617875072216249073013374895871952806582723184"
      ]
     },
     "execution_count": 102,
     "metadata": {},
     "output_type": "execute_result"
    }
   ],
   "source": [
    "karatsuba(3141592653589793238462643383279502884197169399375105820974944592,2718281828459045235360287471352662497757247093699959574966967627)"
   ]
  },
  {
   "cell_type": "code",
   "execution_count": 99,
   "metadata": {},
   "outputs": [
    {
     "data": {
      "text/plain": [
       "68136"
      ]
     },
     "execution_count": 99,
     "metadata": {},
     "output_type": "execute_result"
    }
   ],
   "source": [
    "12*5678"
   ]
  },
  {
   "cell_type": "code",
   "execution_count": 96,
   "metadata": {},
   "outputs": [
    {
     "data": {
      "text/plain": [
       "68136"
      ]
     },
     "execution_count": 96,
     "metadata": {},
     "output_type": "execute_result"
    }
   ],
   "source": [
    "67200+12*78"
   ]
  },
  {
   "cell_type": "code",
   "execution_count": 97,
   "metadata": {},
   "outputs": [
    {
     "data": {
      "text/plain": [
       "672"
      ]
     },
     "execution_count": 97,
     "metadata": {},
     "output_type": "execute_result"
    }
   ],
   "source": [
    "56*12"
   ]
  },
  {
   "cell_type": "code",
   "execution_count": 47,
   "metadata": {},
   "outputs": [],
   "source": [
    "def karatsuba(x: int, y: int) -> int:\n",
    "    \"\"\"\n",
    "    Calculates the multiplication of two integers using Karatsuba\n",
    "    Multiplication.\n",
    "    Naive calculation: O(n^2)\n",
    "    :param x: int\n",
    "    :param y: int\n",
    "    :return: int\n",
    "    \"\"\"\n",
    "    # We assume that the input x and y are both non-negative.\n",
    "\n",
    "    x_s, y_s = str(x), str(y)\n",
    "\n",
    "    # Pad leading zeros   [O(n)]\n",
    "    if len(x_s) > len(y_s):\n",
    "        y_s = _pad_zeros(y_s, len(x_s) - len(y_s), at_front=True)\n",
    "    elif len(x_s) < len(y_s):\n",
    "        x_s = _pad_zeros(x_s, len(y_s) - len(x_s), at_front=True)\n",
    "\n",
    "    n = len(x_s)\n",
    "    # Base case\n",
    "    if n == 1:\n",
    "        return x * y\n",
    "    # Recursive case\n",
    "    # [Divide]   [O(n)]\n",
    "    a_s, b_s, c_s, d_s = x_s[:n // 2], x_s[n // 2:], y_s[:n // 2], y_s[n // 2:]\n",
    "    a, b, c, d = int(a_s), int(b_s), int(c_s), int(d_s)\n",
    "    # [Conquer]\n",
    "    ac = karatsuba(a, c)\n",
    "    bd = karatsuba(b, d)\n",
    "    ad_bc = karatsuba(a + b, c + d) - ac - bd\n",
    "    # Combine the results   [O(n)]\n",
    "    part_1_s = _pad_zeros(str(ac), 2 * (n - n // 2), at_front=False)\n",
    "    part_2_s = _pad_zeros(str(ad_bc), n - n // 2, at_front=False)\n",
    "    return int(part_1_s) + int(part_2_s) + bd\n",
    "    # T(n) = 3T(n/2) + O(n)\n",
    "    # a = 2, b = 2, d = 1\n",
    "    # According to Master Method, the overall running time complexity is\n",
    "    # O(n^1.585), better than O(n^2).\n",
    "\n",
    "\n",
    "def _pad_zeros(s: str, n_zeros: int, at_front: bool) -> str:\n",
    "    \"\"\"\n",
    "    Private helper function to pad the given number of zeros to the given\n",
    "    string.\n",
    "    :param s: str\n",
    "    :param n_zeros: int\n",
    "    :param at_front: bool\n",
    "    :return: str\n",
    "    \"\"\"\n",
    "    new_s = \"\"\n",
    "    if at_front:\n",
    "        new_s += '0' * n_zeros\n",
    "        new_s += s\n",
    "    else:\n",
    "        new_s += s\n",
    "        new_s += '0' * n_zeros\n",
    "    return new_s"
   ]
  },
  {
   "cell_type": "code",
   "execution_count": 48,
   "metadata": {},
   "outputs": [
    {
     "data": {
      "text/plain": [
       "7006652"
      ]
     },
     "execution_count": 48,
     "metadata": {},
     "output_type": "execute_result"
    }
   ],
   "source": [
    "karatsuba(1234,5678)"
   ]
  },
  {
   "cell_type": "code",
   "execution_count": 78,
   "metadata": {},
   "outputs": [
    {
     "data": {
      "text/plain": [
       "'12300'"
      ]
     },
     "execution_count": 78,
     "metadata": {},
     "output_type": "execute_result"
    }
   ],
   "source": [
    "_pad_zeros(\"123\",2,at_front=False)"
   ]
  },
  {
   "cell_type": "code",
   "execution_count": null,
   "metadata": {},
   "outputs": [],
   "source": []
  }
 ],
 "metadata": {
  "kernelspec": {
   "display_name": "Python 3",
   "language": "python",
   "name": "python3"
  },
  "language_info": {
   "codemirror_mode": {
    "name": "ipython",
    "version": 3
   },
   "file_extension": ".py",
   "mimetype": "text/x-python",
   "name": "python",
   "nbconvert_exporter": "python",
   "pygments_lexer": "ipython3",
   "version": "3.8.5"
  }
 },
 "nbformat": 4,
 "nbformat_minor": 4
}
