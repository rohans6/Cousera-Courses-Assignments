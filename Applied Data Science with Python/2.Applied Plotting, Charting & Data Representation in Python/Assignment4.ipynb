{
 "cells": [
  {
   "cell_type": "code",
   "execution_count": 1,
   "metadata": {},
   "outputs": [
    {
     "name": "stderr",
     "output_type": "stream",
     "text": [
      "C:\\Users\\HP\\Anaconda3\\lib\\site-packages\\statsmodels\\tools\\_testing.py:19: FutureWarning: pandas.util.testing is deprecated. Use the functions in the public API at pandas.testing instead.\n",
      "  import pandas.util.testing as tm\n"
     ]
    }
   ],
   "source": [
    "import pandas as pd\n",
    "import numpy as np\n",
    "import seaborn as sns\n",
    "import matplotlib.pyplot  as plt\n",
    "%matplotlib notebook\n"
   ]
  },
  {
   "cell_type": "code",
   "execution_count": 14,
   "metadata": {},
   "outputs": [
    {
     "name": "stderr",
     "output_type": "stream",
     "text": [
      "C:\\Users\\HP\\Anaconda3\\lib\\site-packages\\ipykernel_launcher.py:1: ParserWarning: Falling back to the 'python' engine because the 'c' engine does not support skipfooter; you can avoid this warning by specifying engine='python'.\n",
      "  \"\"\"Entry point for launching an IPython kernel.\n"
     ]
    }
   ],
   "source": [
    "df=pd.read_csv('C:\\\\Users\\\\HP\\\\Downloads\\\\UNdata_Export_20200802_114946227\\\\un.csv',skipfooter=5)\n",
    "temperature=pd.read_excel('C:\\\\Users\\\\HP\\\\Downloads\\\\Temp.xls')\n",
    "rainfall=pd.read_excel('C:\\\\Users\\\\HP\\Downloads\\\\Rain.xls')\n"
   ]
  },
  {
   "cell_type": "code",
   "execution_count": 69,
   "metadata": {},
   "outputs": [
    {
     "data": {
      "text/plain": [
       "Index(['Country or Territory', 'Station Name', 'WMO Station Number',\n",
       "       'National Station Id Number', 'Period',\n",
       "       'Element-Statistic Qualifier Code', 'Statistic Description', 'Unit',\n",
       "       'Jan', 'Jan Footnotes', 'Feb', 'Feb Footnotes', 'Mar', 'Mar Footnotes',\n",
       "       'Apr', 'Apr Footnotes', 'May', 'May Footnotes', 'Jun', 'Jun Footnotes',\n",
       "       'Jul', 'Jul Footnotes', 'Aug', 'Aug Footnotes', 'Sep', 'Sep Footnotes',\n",
       "       'Oct', 'Oct Footnotes', 'Nov', 'Nov Footnotes', 'Dec', 'Dec Footnotes',\n",
       "       'Annual', 'Annual Footnotes', 'Annual NCDC Computed Value',\n",
       "       'Annual NCDC Computed Value Footnotes'],\n",
       "      dtype='object')"
      ]
     },
     "execution_count": 69,
     "metadata": {},
     "output_type": "execute_result"
    }
   ],
   "source": [
    "df.columns"
   ]
  },
  {
   "cell_type": "code",
   "execution_count": 70,
   "metadata": {},
   "outputs": [
    {
     "data": {
      "text/plain": [
       "array(['CANADA', 'CZECH REPUBLIC', 'JAPAN', 'ROMANIA', 'SAUDI ARABIA',\n",
       "       'UNITED STATES OF AMERICA',\n",
       "       'UNITED STATES OF AMERICA (ANTARCTIC STATIONS)',\n",
       "       'UNITED STATES OF AMERICA (PACIFIC ISLANDS)'], dtype=object)"
      ]
     },
     "execution_count": 70,
     "metadata": {},
     "output_type": "execute_result"
    }
   ],
   "source": [
    "df['Country or Territory'].unique()"
   ]
  },
  {
   "cell_type": "code",
   "execution_count": null,
   "metadata": {},
   "outputs": [],
   "source": [
    "https://raw.githubusercontent.com/VaaibhaviSingh/Applied-Plotting-Charting-and-Data-Representation-in-Python/126038a907adb58d47bc7c4520da40630e810bc5/UNdata_Export_20180725_144821933.csv"
   ]
  },
  {
   "cell_type": "code",
   "execution_count": 18,
   "metadata": {},
   "outputs": [],
   "source": [
    "Jan=df['Jan'].mean()\n",
    "Feb=df['Feb'].mean()\n",
    "Mar=df['Mar'].mean()\n",
    "Apr=df['Apr'].mean()\n",
    "May=df['May'].mean()\n",
    "Jun=df['Jun'].mean()\n",
    "Jul=df['Jul'].mean()\n",
    "Aug=df['Aug'].mean()\n",
    "Sep=df['Sep'].mean()\n",
    "Oct=df['Oct'].mean()\n",
    "Nov=df['Nov'].mean()\n",
    "Dec=df['Dec'].mean()"
   ]
  },
  {
   "cell_type": "code",
   "execution_count": 19,
   "metadata": {},
   "outputs": [],
   "source": [
    "df0=pd.DataFrame({'Snowfall': [Jan, Feb, Mar, Apr, May, Jun, Jul, Aug, Sep, Oct, Nov, Dec]})"
   ]
  },
  {
   "cell_type": "code",
   "execution_count": 27,
   "metadata": {},
   "outputs": [
    {
     "data": {
      "text/html": [
       "<div>\n",
       "<style scoped>\n",
       "    .dataframe tbody tr th:only-of-type {\n",
       "        vertical-align: middle;\n",
       "    }\n",
       "\n",
       "    .dataframe tbody tr th {\n",
       "        vertical-align: top;\n",
       "    }\n",
       "\n",
       "    .dataframe thead th {\n",
       "        text-align: right;\n",
       "    }\n",
       "</style>\n",
       "<table border=\"1\" class=\"dataframe\">\n",
       "  <thead>\n",
       "    <tr style=\"text-align: right;\">\n",
       "      <th></th>\n",
       "      <th>pr</th>\n",
       "      <th>\\tYear</th>\n",
       "      <th>Month</th>\n",
       "      <th>Country</th>\n",
       "      <th>ISO3</th>\n",
       "      <th>ISO2</th>\n",
       "    </tr>\n",
       "  </thead>\n",
       "  <tbody>\n",
       "    <tr>\n",
       "      <th>0</th>\n",
       "      <td>29.8744</td>\n",
       "      <td>1961</td>\n",
       "      <td>1</td>\n",
       "      <td>USA</td>\n",
       "      <td>NaN</td>\n",
       "      <td>NaN</td>\n",
       "    </tr>\n",
       "    <tr>\n",
       "      <th>1</th>\n",
       "      <td>52.7065</td>\n",
       "      <td>1961</td>\n",
       "      <td>2</td>\n",
       "      <td>USA</td>\n",
       "      <td>NaN</td>\n",
       "      <td>NaN</td>\n",
       "    </tr>\n",
       "    <tr>\n",
       "      <th>2</th>\n",
       "      <td>59.5436</td>\n",
       "      <td>1961</td>\n",
       "      <td>3</td>\n",
       "      <td>USA</td>\n",
       "      <td>NaN</td>\n",
       "      <td>NaN</td>\n",
       "    </tr>\n",
       "    <tr>\n",
       "      <th>3</th>\n",
       "      <td>48.6108</td>\n",
       "      <td>1961</td>\n",
       "      <td>4</td>\n",
       "      <td>USA</td>\n",
       "      <td>NaN</td>\n",
       "      <td>NaN</td>\n",
       "    </tr>\n",
       "    <tr>\n",
       "      <th>4</th>\n",
       "      <td>57.4379</td>\n",
       "      <td>1961</td>\n",
       "      <td>5</td>\n",
       "      <td>USA</td>\n",
       "      <td>NaN</td>\n",
       "      <td>NaN</td>\n",
       "    </tr>\n",
       "    <tr>\n",
       "      <th>...</th>\n",
       "      <td>...</td>\n",
       "      <td>...</td>\n",
       "      <td>...</td>\n",
       "      <td>...</td>\n",
       "      <td>...</td>\n",
       "      <td>...</td>\n",
       "    </tr>\n",
       "    <tr>\n",
       "      <th>355</th>\n",
       "      <td>67.3301</td>\n",
       "      <td>1990</td>\n",
       "      <td>8</td>\n",
       "      <td>USA</td>\n",
       "      <td>NaN</td>\n",
       "      <td>NaN</td>\n",
       "    </tr>\n",
       "    <tr>\n",
       "      <th>356</th>\n",
       "      <td>56.8717</td>\n",
       "      <td>1990</td>\n",
       "      <td>9</td>\n",
       "      <td>USA</td>\n",
       "      <td>NaN</td>\n",
       "      <td>NaN</td>\n",
       "    </tr>\n",
       "    <tr>\n",
       "      <th>357</th>\n",
       "      <td>60.1428</td>\n",
       "      <td>1990</td>\n",
       "      <td>10</td>\n",
       "      <td>USA</td>\n",
       "      <td>NaN</td>\n",
       "      <td>NaN</td>\n",
       "    </tr>\n",
       "    <tr>\n",
       "      <th>358</th>\n",
       "      <td>45.8675</td>\n",
       "      <td>1990</td>\n",
       "      <td>11</td>\n",
       "      <td>USA</td>\n",
       "      <td>NaN</td>\n",
       "      <td>NaN</td>\n",
       "    </tr>\n",
       "    <tr>\n",
       "      <th>359</th>\n",
       "      <td>60.9985</td>\n",
       "      <td>1990</td>\n",
       "      <td>12</td>\n",
       "      <td>USA</td>\n",
       "      <td>NaN</td>\n",
       "      <td>NaN</td>\n",
       "    </tr>\n",
       "  </tbody>\n",
       "</table>\n",
       "<p>360 rows × 6 columns</p>\n",
       "</div>"
      ],
      "text/plain": [
       "          pr  \\tYear   Month  Country   ISO3   ISO2\n",
       "0    29.8744    1961       1      USA    NaN    NaN\n",
       "1    52.7065    1961       2      USA    NaN    NaN\n",
       "2    59.5436    1961       3      USA    NaN    NaN\n",
       "3    48.6108    1961       4      USA    NaN    NaN\n",
       "4    57.4379    1961       5      USA    NaN    NaN\n",
       "..       ...     ...     ...      ...    ...    ...\n",
       "355  67.3301    1990       8      USA    NaN    NaN\n",
       "356  56.8717    1990       9      USA    NaN    NaN\n",
       "357  60.1428    1990      10      USA    NaN    NaN\n",
       "358  45.8675    1990      11      USA    NaN    NaN\n",
       "359  60.9985    1990      12      USA    NaN    NaN\n",
       "\n",
       "[360 rows x 6 columns]"
      ]
     },
     "execution_count": 27,
     "metadata": {},
     "output_type": "execute_result"
    }
   ],
   "source": [
    "rainfall"
   ]
  },
  {
   "cell_type": "code",
   "execution_count": 28,
   "metadata": {},
   "outputs": [],
   "source": [
    "monthly_rain=rainfall.groupby( ' Month').mean()['pr']"
   ]
  },
  {
   "cell_type": "code",
   "execution_count": 29,
   "metadata": {},
   "outputs": [
    {
     "data": {
      "text/plain": [
       " Month\n",
       "1     44.567710\n",
       "2     41.915983\n",
       "3     51.627430\n",
       "4     49.433157\n",
       "5     60.396267\n",
       "6     64.473557\n",
       "7     65.537783\n",
       "8     65.038193\n",
       "9     61.432697\n",
       "10    49.504067\n",
       "11    50.642860\n",
       "12    50.472827\n",
       "Name: pr, dtype: float64"
      ]
     },
     "execution_count": 29,
     "metadata": {},
     "output_type": "execute_result"
    }
   ],
   "source": [
    "monthly_rain"
   ]
  },
  {
   "cell_type": "code",
   "execution_count": 31,
   "metadata": {},
   "outputs": [],
   "source": [
    "Jan=monthly_rain.iloc[0]\n",
    "Feb=monthly_rain.iloc[1]\n",
    "Mar=monthly_rain.iloc[2]\n",
    "Apr=monthly_rain.iloc[3]\n",
    "May=monthly_rain.iloc[4]\n",
    "Jun=monthly_rain.iloc[5]\n",
    "Jul=monthly_rain.iloc[6]\n",
    "Aug=monthly_rain.iloc[7]\n",
    "Sep=monthly_rain.iloc[8]\n",
    "Oct=monthly_rain.iloc[9]\n",
    "Nov=monthly_rain.iloc[10]\n",
    "Dec=monthly_rain.iloc[11]"
   ]
  },
  {
   "cell_type": "code",
   "execution_count": 41,
   "metadata": {},
   "outputs": [],
   "source": [
    "df0['Rainfall']=[Jan,Feb,Mar,Apr,May,Jun,Jul,Aug,Sep,Oct,Nov,Dec]"
   ]
  },
  {
   "cell_type": "code",
   "execution_count": 39,
   "metadata": {},
   "outputs": [],
   "source": [
    "temp=temperature.groupby( ' Month').mean()['tas']"
   ]
  },
  {
   "cell_type": "code",
   "execution_count": 43,
   "metadata": {},
   "outputs": [],
   "source": [
    "Jan=temp.iloc[0]\n",
    "Feb=temp.iloc[1]\n",
    "Mar=temp.iloc[2]\n",
    "Apr=temp.iloc[3]\n",
    "May=temp.iloc[4]\n",
    "Jun=temp.iloc[5]\n",
    "Jul=temp.iloc[6]\n",
    "Aug=temp.iloc[7]\n",
    "Sep=temp.iloc[8]\n",
    "Oct=temp.iloc[9]\n",
    "Nov=temp.iloc[10]\n",
    "Dec=temp.iloc[11]"
   ]
  },
  {
   "cell_type": "code",
   "execution_count": 44,
   "metadata": {},
   "outputs": [],
   "source": [
    "df0['Temperature']=[Jan,Feb,Mar,Apr,May,Jun,Jul,Aug,Sep,Oct,Nov,Dec]"
   ]
  },
  {
   "cell_type": "code",
   "execution_count": 46,
   "metadata": {},
   "outputs": [],
   "source": [
    "df0.index=['Jan','Feb','Mar','Apr','May','Jun','Jul','Aug','Sep','Oct','Nov','Dec']"
   ]
  },
  {
   "cell_type": "code",
   "execution_count": 47,
   "metadata": {},
   "outputs": [
    {
     "data": {
      "text/html": [
       "<div>\n",
       "<style scoped>\n",
       "    .dataframe tbody tr th:only-of-type {\n",
       "        vertical-align: middle;\n",
       "    }\n",
       "\n",
       "    .dataframe tbody tr th {\n",
       "        vertical-align: top;\n",
       "    }\n",
       "\n",
       "    .dataframe thead th {\n",
       "        text-align: right;\n",
       "    }\n",
       "</style>\n",
       "<table border=\"1\" class=\"dataframe\">\n",
       "  <thead>\n",
       "    <tr style=\"text-align: right;\">\n",
       "      <th></th>\n",
       "      <th>Snowfall</th>\n",
       "      <th>Rainfall</th>\n",
       "      <th>Temperature</th>\n",
       "    </tr>\n",
       "  </thead>\n",
       "  <tbody>\n",
       "    <tr>\n",
       "      <th>Jan</th>\n",
       "      <td>24930.279695</td>\n",
       "      <td>44.567710</td>\n",
       "      <td>-6.266277</td>\n",
       "    </tr>\n",
       "    <tr>\n",
       "      <th>Feb</th>\n",
       "      <td>24529.348676</td>\n",
       "      <td>41.915983</td>\n",
       "      <td>-4.228557</td>\n",
       "    </tr>\n",
       "    <tr>\n",
       "      <th>Mar</th>\n",
       "      <td>23673.928871</td>\n",
       "      <td>51.627430</td>\n",
       "      <td>0.161376</td>\n",
       "    </tr>\n",
       "    <tr>\n",
       "      <th>Apr</th>\n",
       "      <td>21819.610889</td>\n",
       "      <td>49.433157</td>\n",
       "      <td>5.987872</td>\n",
       "    </tr>\n",
       "    <tr>\n",
       "      <th>May</th>\n",
       "      <td>25933.514436</td>\n",
       "      <td>60.396267</td>\n",
       "      <td>12.186650</td>\n",
       "    </tr>\n",
       "    <tr>\n",
       "      <th>Jun</th>\n",
       "      <td>25707.250250</td>\n",
       "      <td>64.473557</td>\n",
       "      <td>17.210970</td>\n",
       "    </tr>\n",
       "    <tr>\n",
       "      <th>Jul</th>\n",
       "      <td>25219.196129</td>\n",
       "      <td>65.537783</td>\n",
       "      <td>20.030330</td>\n",
       "    </tr>\n",
       "    <tr>\n",
       "      <th>Aug</th>\n",
       "      <td>25158.059391</td>\n",
       "      <td>65.038193</td>\n",
       "      <td>18.935290</td>\n",
       "    </tr>\n",
       "    <tr>\n",
       "      <th>Sep</th>\n",
       "      <td>26789.411039</td>\n",
       "      <td>61.432697</td>\n",
       "      <td>14.488357</td>\n",
       "    </tr>\n",
       "    <tr>\n",
       "      <th>Oct</th>\n",
       "      <td>23754.459540</td>\n",
       "      <td>49.504067</td>\n",
       "      <td>7.789156</td>\n",
       "    </tr>\n",
       "    <tr>\n",
       "      <th>Nov</th>\n",
       "      <td>22443.401174</td>\n",
       "      <td>50.642860</td>\n",
       "      <td>0.468967</td>\n",
       "    </tr>\n",
       "    <tr>\n",
       "      <th>Dec</th>\n",
       "      <td>23574.686813</td>\n",
       "      <td>50.472827</td>\n",
       "      <td>-4.694447</td>\n",
       "    </tr>\n",
       "  </tbody>\n",
       "</table>\n",
       "</div>"
      ],
      "text/plain": [
       "         Snowfall   Rainfall  Temperature\n",
       "Jan  24930.279695  44.567710    -6.266277\n",
       "Feb  24529.348676  41.915983    -4.228557\n",
       "Mar  23673.928871  51.627430     0.161376\n",
       "Apr  21819.610889  49.433157     5.987872\n",
       "May  25933.514436  60.396267    12.186650\n",
       "Jun  25707.250250  64.473557    17.210970\n",
       "Jul  25219.196129  65.537783    20.030330\n",
       "Aug  25158.059391  65.038193    18.935290\n",
       "Sep  26789.411039  61.432697    14.488357\n",
       "Oct  23754.459540  49.504067     7.789156\n",
       "Nov  22443.401174  50.642860     0.468967\n",
       "Dec  23574.686813  50.472827    -4.694447"
      ]
     },
     "execution_count": 47,
     "metadata": {},
     "output_type": "execute_result"
    }
   ],
   "source": [
    "df0"
   ]
  },
  {
   "cell_type": "code",
   "execution_count": 57,
   "metadata": {},
   "outputs": [],
   "source": [
    "df0['Snowfall']=df0['Snowfall']/1000"
   ]
  },
  {
   "cell_type": "code",
   "execution_count": 58,
   "metadata": {},
   "outputs": [],
   "source": [
    "x=df0.index.tolist()\n",
    "y1=df0['Snowfall'].tolist()\n",
    "y2=df0['Rainfall'].tolist()\n",
    "y3=df0['Temperature'].tolist()"
   ]
  },
  {
   "cell_type": "code",
   "execution_count": 73,
   "metadata": {},
   "outputs": [
    {
     "data": {
      "text/plain": [
       "[None, None]"
      ]
     },
     "execution_count": 73,
     "metadata": {},
     "output_type": "execute_result"
    },
    {
     "data": {
      "image/png": "[encoded data removed]",
      "text/plain": [
       "<Figure size 504x504 with 1 Axes>"
      ]
     },
     "metadata": {
      "needs_background": "light"
     },
     "output_type": "display_data"
    }
   ],
   "source": [
    "plt.figure(figsize=(7,7))\n",
    "plt.plot(x,y1,'-s',label=\"Snowfall \")\n",
    "plt.plot(x,y2,'-*',label=\"Rainfall\")\n",
    "plt.plot(x,y3,'-o',label=\"Temperature\")\n",
    "plt.title('Average Temperature, Snowfall and Rainfall in United States(1961-1990)')\n",
    "plt.legend(frameon=False)\n",
    "[plt.gca().spines[loc].set_visible(False) for loc in ['top', 'right']]"
   ]
  }
 ],
 "metadata": {
  "kernelspec": {
   "display_name": "Python 3",
   "language": "python",
   "name": "python3"
  },
  "language_info": {
   "codemirror_mode": {
    "name": "ipython",
    "version": 3
   },
   "file_extension": ".py",
   "mimetype": "text/x-python",
   "name": "python",
   "nbconvert_exporter": "python",
   "pygments_lexer": "ipython3",
   "version": "3.7.4"
  }
 },
 "nbformat": 4,
 "nbformat_minor": 2
}
